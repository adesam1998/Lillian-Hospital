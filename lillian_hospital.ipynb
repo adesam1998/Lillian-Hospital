{
 "cells": [
  {
   "cell_type": "code",
   "execution_count": 1,
   "metadata": {},
   "outputs": [],
   "source": [
    "import pandas as pd\n",
    "import csv\n",
    "import psycopg2\n",
    "import json"
   ]
  },
  {
   "cell_type": "code",
   "execution_count": 3,
   "metadata": {},
   "outputs": [
    {
     "name": "stdout",
     "output_type": "stream",
     "text": [
      "<class 'pandas.core.frame.DataFrame'>\n",
      "RangeIndex: 20 entries, 0 to 19\n",
      "Data columns (total 6 columns):\n",
      " #   Column                  Non-Null Count  Dtype \n",
      "---  ------                  --------------  ----- \n",
      " 0   trial_id                20 non-null     object\n",
      " 1   trial_name              20 non-null     object\n",
      " 2   principal_investigator  20 non-null     object\n",
      " 3   start_date              20 non-null     object\n",
      " 4   end_date                20 non-null     object\n",
      " 5   trial_description       20 non-null     object\n",
      "dtypes: object(6)\n",
      "memory usage: 1.1+ KB\n"
     ]
    }
   ],
   "source": [
    "df_clinical_trials = pd.read_csv('clinical_trials_data.csv')\n",
    "df_clinical_trials.info()"
   ]
  },
  {
   "cell_type": "code",
   "execution_count": 4,
   "metadata": {},
   "outputs": [
    {
     "name": "stdout",
     "output_type": "stream",
     "text": [
      "<class 'pandas.core.frame.DataFrame'>\n",
      "RangeIndex: 1500 entries, 0 to 1499\n",
      "Data columns (total 6 columns):\n",
      " #   Column        Non-Null Count  Dtype \n",
      "---  ------        --------------  ----- \n",
      " 0   result_id     1500 non-null   object\n",
      " 1   patient_id    1500 non-null   object\n",
      " 2   imaging_type  1500 non-null   object\n",
      " 3   imaging_date  1500 non-null   object\n",
      " 4   image_url     1500 non-null   object\n",
      " 5   findings      1500 non-null   object\n",
      "dtypes: object(6)\n",
      "memory usage: 70.4+ KB\n"
     ]
    }
   ],
   "source": [
    "df_imaging_result = pd.read_csv('imaging_results_data.csv')\n",
    "df_imaging_result.info()"
   ]
  },
  {
   "cell_type": "code",
   "execution_count": 9,
   "metadata": {},
   "outputs": [
    {
     "name": "stdout",
     "output_type": "stream",
     "text": [
      "<class 'pandas.core.frame.DataFrame'>\n",
      "RangeIndex: 2500 entries, 0 to 2499\n",
      "Data columns (total 6 columns):\n",
      " #   Column           Non-Null Count  Dtype \n",
      "---  ------           --------------  ----- \n",
      " 0   result_id        2500 non-null   object\n",
      " 1   patient_id       2500 non-null   object\n",
      " 2   test_name        2500 non-null   object\n",
      " 3   test_date        2500 non-null   object\n",
      " 4   test_result      2500 non-null   object\n",
      " 5   reference_range  2500 non-null   object\n",
      "dtypes: object(6)\n",
      "memory usage: 117.3+ KB\n"
     ]
    }
   ],
   "source": [
    "df_lab_result = pd.read_csv('lab_results_data.csv')\n",
    "df_lab_result.info()"
   ]
  },
  {
   "cell_type": "code",
   "execution_count": 8,
   "metadata": {},
   "outputs": [
    {
     "name": "stdout",
     "output_type": "stream",
     "text": [
      "<class 'pandas.core.frame.DataFrame'>\n",
      "RangeIndex: 2000 entries, 0 to 1999\n",
      "Data columns (total 7 columns):\n",
      " #   Column                  Non-Null Count  Dtype \n",
      "---  ------                  --------------  ----- \n",
      " 0   record_id               2000 non-null   object\n",
      " 1   patient_id              2000 non-null   object\n",
      " 2   admission_date          2000 non-null   object\n",
      " 3   discharge_date          2000 non-null   object\n",
      " 4   diagnosis               2000 non-null   object\n",
      " 5   treatment_description   2000 non-null   object\n",
      " 6   prescribed_medications  2000 non-null   object\n",
      "dtypes: object(7)\n",
      "memory usage: 109.5+ KB\n"
     ]
    }
   ],
   "source": [
    "df_medical_records = pd.read_csv('medical_records_data.csv')\n",
    "df_medical_records.info()"
   ]
  },
  {
   "cell_type": "code",
   "execution_count": 5,
   "metadata": {},
   "outputs": [
    {
     "name": "stdout",
     "output_type": "stream",
     "text": [
      "<class 'pandas.core.frame.DataFrame'>\n",
      "RangeIndex: 1000 entries, 0 to 999\n",
      "Data columns (total 8 columns):\n",
      " #   Column          Non-Null Count  Dtype \n",
      "---  ------          --------------  ----- \n",
      " 0   patient_id      1000 non-null   object\n",
      " 1   first_name      1000 non-null   object\n",
      " 2   last_name       1000 non-null   object\n",
      " 3   date_of_birth   1000 non-null   object\n",
      " 4   gender          1000 non-null   object\n",
      " 5   ethnicity       1000 non-null   object\n",
      " 6   address         1000 non-null   object\n",
      " 7   contact_number  1000 non-null   object\n",
      "dtypes: object(8)\n",
      "memory usage: 62.6+ KB\n"
     ]
    }
   ],
   "source": [
    "df_patients_data = pd.read_csv('patients_data.csv')\n",
    "df_patients_data.info()"
   ]
  },
  {
   "cell_type": "code",
   "execution_count": 7,
   "metadata": {},
   "outputs": [
    {
     "name": "stdout",
     "output_type": "stream",
     "text": [
      "<class 'pandas.core.frame.DataFrame'>\n",
      "RangeIndex: 500 entries, 0 to 499\n",
      "Data columns (total 5 columns):\n",
      " #   Column              Non-Null Count  Dtype \n",
      "---  ------              --------------  ----- \n",
      " 0   participant_id      500 non-null    object\n",
      " 1   trial_id            500 non-null    object\n",
      " 2   patient_id          500 non-null    object\n",
      " 3   enrollment_date     500 non-null    object\n",
      " 4   participant_status  500 non-null    object\n",
      "dtypes: object(5)\n",
      "memory usage: 19.7+ KB\n"
     ]
    }
   ],
   "source": [
    "df_trial_participant = pd.read_csv('trial_participants_data.csv')\n",
    "df_trial_participant.info() "
   ]
  },
  {
   "cell_type": "code",
   "execution_count": null,
   "metadata": {},
   "outputs": [],
   "source": []
  }
 ],
 "metadata": {
  "kernelspec": {
   "display_name": "Python 3",
   "language": "python",
   "name": "python3"
  },
  "language_info": {
   "codemirror_mode": {
    "name": "ipython",
    "version": 3
   },
   "file_extension": ".py",
   "mimetype": "text/x-python",
   "name": "python",
   "nbconvert_exporter": "python",
   "pygments_lexer": "ipython3",
   "version": "3.12.0"
  }
 },
 "nbformat": 4,
 "nbformat_minor": 2
}
